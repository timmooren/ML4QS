{
 "cells": [
  {
   "attachments": {},
   "cell_type": "markdown",
   "metadata": {},
   "source": [
    "### Data processing"
   ]
  },
  {
   "cell_type": "code",
   "execution_count": 1,
   "metadata": {},
   "outputs": [],
   "source": [
    "import pandas as pd\n",
    "import create_dataset as cd\n",
    "import feature_engineering as fe\n",
    "from prep import * "
   ]
  },
  {
   "cell_type": "code",
   "execution_count": 2,
   "metadata": {},
   "outputs": [],
   "source": [
    "data_tim = pd.read_csv('datasets/raw_data_tim_copy.csv')\n",
    "data_sien = pd.read_csv('datasets/raw_data_sien_copy.csv')\n",
    "# data_tim2 = pd.read_csv('datasets/raw_data_tim_2_copy.csv')\n",
    "# data_sien2 = pd.read_csv('datasets/raw_data_sien_2_copy.csv')"
   ]
  },
  {
   "attachments": {},
   "cell_type": "markdown",
   "metadata": {},
   "source": [
    "Create_dataset.py"
   ]
  },
  {
   "cell_type": "code",
   "execution_count": 3,
   "metadata": {},
   "outputs": [
    {
     "ename": "NameError",
     "evalue": "name 'data_sien2' is not defined",
     "output_type": "error",
     "traceback": [
      "\u001b[0;31m---------------------------------------------------------------------------\u001b[0m",
      "\u001b[0;31mNameError\u001b[0m                                 Traceback (most recent call last)",
      "Cell \u001b[0;32mIn[3], line 2\u001b[0m\n\u001b[1;32m      1\u001b[0m \u001b[39m# combine tim & sien dfs \u001b[39;00m\n\u001b[0;32m----> 2\u001b[0m data \u001b[39m=\u001b[39m cd\u001b[39m.\u001b[39mcombine_start_dfs(data_sien, data_sien2, data_tim, data_tim2)\n\u001b[1;32m      3\u001b[0m \u001b[39m# change name climber to numerical value\u001b[39;00m\n\u001b[1;32m      4\u001b[0m data[\u001b[39m'\u001b[39m\u001b[39mname_climber\u001b[39m\u001b[39m'\u001b[39m] \u001b[39m=\u001b[39m data[\u001b[39m'\u001b[39m\u001b[39mname_climber\u001b[39m\u001b[39m'\u001b[39m]\u001b[39m.\u001b[39mmap({\u001b[39m'\u001b[39m\u001b[39msien\u001b[39m\u001b[39m'\u001b[39m:\u001b[39m0\u001b[39m,\u001b[39m'\u001b[39m\u001b[39mtim\u001b[39m\u001b[39m'\u001b[39m:\u001b[39m1\u001b[39m})\n",
      "\u001b[0;31mNameError\u001b[0m: name 'data_sien2' is not defined"
     ]
    }
   ],
   "source": [
    "# combine tim & sien dfs \n",
    "data = cd.combine_start_dfs(data_sien, data_sien2, data_tim, data_tim2)\n",
    "# change name climber to numerical value\n",
    "data['name_climber'] = data['name_climber'].map({'sien':0,'tim':1})\n",
    "# drop weird column (SIEN's FAULT)\n",
    "data = data.drop(columns = ['Time (s).1'])\n",
    "# drop climber rating var \n",
    "data = cd.drop_climber_rating(data)\n",
    "# add datetime var \n",
    "data = cd.add_datetime(data) # odd missalignment when viewing data in dataviewer \n",
    "# add heart-rate var\n",
    "# TODO:  make sure to check with times and time zone thing idk \n",
    "# cut falls \n",
    "data = cd.cut_fall(data)"
   ]
  },
  {
   "cell_type": "code",
   "execution_count": null,
   "metadata": {},
   "outputs": [],
   "source": [
    "data.head()"
   ]
  },
  {
   "attachments": {},
   "cell_type": "markdown",
   "metadata": {},
   "source": [
    "feature_engineering.py"
   ]
  },
  {
   "cell_type": "code",
   "execution_count": null,
   "metadata": {},
   "outputs": [],
   "source": [
    "data = fe.features(data)\n",
    "data.grading = data.grading.apply(fe.french_grade_to_num)"
   ]
  },
  {
   "attachments": {},
   "cell_type": "markdown",
   "metadata": {},
   "source": [
    "prep.py"
   ]
  },
  {
   "attachments": {},
   "cell_type": "markdown",
   "metadata": {},
   "source": []
  },
  {
   "cell_type": "code",
   "execution_count": null,
   "metadata": {},
   "outputs": [],
   "source": [
    "data = create_snippets(data, 20, 5)\n",
    "print(data.groupby(\"entry_num\").size())\n",
    "data = change_climb_ID(data)\n",
    "\n",
    "# show number of rows per climb_id\n",
    "# save data\n",
    "data.to_csv('datasets/processed_data.csv', index = False)"
   ]
  },
  {
   "cell_type": "code",
   "execution_count": null,
   "metadata": {},
   "outputs": [],
   "source": []
  },
  {
   "cell_type": "markdown",
   "metadata": {},
   "source": [
    "Data & imports"
   ]
  },
  {
   "attachments": {},
   "cell_type": "markdown",
   "metadata": {},
   "source": [
    "Random Forest"
   ]
  }
 ],
 "metadata": {
  "kernelspec": {
   "display_name": "uni_venv",
   "language": "python",
   "name": "python3"
  },
  "language_info": {
   "codemirror_mode": {
    "name": "ipython",
    "version": 3
   },
   "file_extension": ".py",
   "mimetype": "text/x-python",
   "name": "python",
   "nbconvert_exporter": "python",
   "pygments_lexer": "ipython3",
   "version": "3.11.2"
  },
  "orig_nbformat": 4
 },
 "nbformat": 4,
 "nbformat_minor": 2
}
