{
 "cells": [
  {
   "cell_type": "code",
   "execution_count": null,
   "metadata": {},
   "outputs": [
    {
     "ename": "",
     "evalue": "",
     "output_type": "error",
     "traceback": [
      "\u001b[1;31mRunning cells with '/Users/timmooren/miniconda/envs/tf/bin/python' requires the ipykernel package.\n",
      "\u001b[1;31mRun the following command to install 'ipykernel' into the Python environment. \n",
      "\u001b[1;31mCommand: 'conda install -p /Users/timmooren/miniconda/envs/tf ipykernel --update-deps --force-reinstall'"
     ]
    }
   ],
   "source": [
    "import numpy as np\n",
    "import pandas as pd\n",
    "from sklearn.preprocessing import MinMaxScaler\n",
    "from sklearn.model_selection import train_test_split\n",
    "pd.set_option('display.max_columns', None)\n",
    "\n",
    "# Load preprocessed data\n",
    "data = pd.read_csv(\"datasets/processed_data.csv\")\n",
    "# drop datetime\n",
    "data = data.drop(\"datetime\", axis=1)"
   ]
  },
  {
   "cell_type": "code",
   "execution_count": null,
   "metadata": {},
   "outputs": [
    {
     "ename": "",
     "evalue": "",
     "output_type": "error",
     "traceback": [
      "\u001b[1;31mRunning cells with '/Users/timmooren/miniconda/envs/tf/bin/python' requires the ipykernel package.\n",
      "\u001b[1;31mRun the following command to install 'ipykernel' into the Python environment. \n",
      "\u001b[1;31mCommand: 'conda install -p /Users/timmooren/miniconda/envs/tf ipykernel --update-deps --force-reinstall'"
     ]
    }
   ],
   "source": [
    "# show number of rows per climb_id\n",
    "data.groupby(\"climb_id\").size()"
   ]
  },
  {
   "cell_type": "code",
   "execution_count": null,
   "metadata": {},
   "outputs": [
    {
     "ename": "",
     "evalue": "",
     "output_type": "error",
     "traceback": [
      "\u001b[1;31mRunning cells with '/Users/timmooren/miniconda/envs/tf/bin/python' requires the ipykernel package.\n",
      "\u001b[1;31mRun the following command to install 'ipykernel' into the Python environment. \n",
      "\u001b[1;31mCommand: 'conda install -p /Users/timmooren/miniconda/envs/tf ipykernel --update-deps --force-reinstall'"
     ]
    }
   ],
   "source": [
    "data"
   ]
  },
  {
   "cell_type": "code",
   "execution_count": null,
   "metadata": {},
   "outputs": [
    {
     "ename": "",
     "evalue": "",
     "output_type": "error",
     "traceback": [
      "\u001b[1;31mRunning cells with '/Users/timmooren/miniconda/envs/tf/bin/python' requires the ipykernel package.\n",
      "\u001b[1;31mRun the following command to install 'ipykernel' into the Python environment. \n",
      "\u001b[1;31mCommand: 'conda install -p /Users/timmooren/miniconda/envs/tf ipykernel --update-deps --force-reinstall'"
     ]
    }
   ],
   "source": [
    "# show a climb_id where climb_id is 3.1\n",
    "data[data[\"climb_id\"] == 3.1]"
   ]
  },
  {
   "cell_type": "code",
   "execution_count": null,
   "metadata": {},
   "outputs": [
    {
     "ename": "",
     "evalue": "",
     "output_type": "error",
     "traceback": [
      "\u001b[1;31mRunning cells with '/Users/timmooren/miniconda/envs/tf/bin/python' requires the ipykernel package.\n",
      "\u001b[1;31mRun the following command to install 'ipykernel' into the Python environment. \n",
      "\u001b[1;31mCommand: 'conda install -p /Users/timmooren/miniconda/envs/tf ipykernel --update-deps --force-reinstall'"
     ]
    }
   ],
   "source": [
    "# for every climb_id, if fall_top is 1, make fall_top is 1 for only the last row\n",
    "unique_climb_ids = data['climb_id'].unique()\n",
    "\n",
    "for climb_id in unique_climb_ids:\n",
    "    subset = data[data['climb_id'] == climb_id]\n",
    "    if subset['fall_top'].sum() > 0:  # if 'fall_top' is 1 for any row in the subset\n",
    "        data.loc[(data['climb_id'] == climb_id) & (data.index != subset.index[-1]), 'fall_top'] = 0  # set 'fall_top' to 0 for all rows except the last one\n",
    "\n",
    "# Now, df should be updated according to your r\n",
    "data[data[\"climb_id\"] == 3.1]"
   ]
  },
  {
   "cell_type": "code",
   "execution_count": null,
   "metadata": {},
   "outputs": [],
   "source": [
    "# for the fall_top column show ratio of 1s to 0s as a percentage\n",
    "data[\"fall_top\"].value_counts()"
   ]
  },
  {
   "cell_type": "code",
   "execution_count": null,
   "metadata": {},
   "outputs": [
    {
     "ename": "",
     "evalue": "",
     "output_type": "error",
     "traceback": [
      "\u001b[1;31mRunning cells with '/Users/timmooren/miniconda/envs/tf/bin/python' requires the ipykernel package.\n",
      "\u001b[1;31mRun the following command to install 'ipykernel' into the Python environment. \n",
      "\u001b[1;31mCommand: 'conda install -p /Users/timmooren/miniconda/envs/tf ipykernel --update-deps --force-reinstall'"
     ]
    }
   ],
   "source": [
    "# check whether every climb_id is the same length\n",
    "data.groupby('climb_id').size().unique()"
   ]
  },
  {
   "cell_type": "code",
   "execution_count": null,
   "metadata": {},
   "outputs": [
    {
     "ename": "",
     "evalue": "",
     "output_type": "error",
     "traceback": [
      "\u001b[1;31mRunning cells with '/Users/timmooren/miniconda/envs/tf/bin/python' requires the ipykernel package.\n",
      "\u001b[1;31mRun the following command to install 'ipykernel' into the Python environment. \n",
      "\u001b[1;31mCommand: 'conda install -p /Users/timmooren/miniconda/envs/tf ipykernel --update-deps --force-reinstall'"
     ]
    }
   ],
   "source": [
    "data = data.sort_values(['climb_id', 'Time (s)'])\n",
    "data"
   ]
  },
  {
   "cell_type": "code",
   "execution_count": null,
   "metadata": {},
   "outputs": [
    {
     "ename": "",
     "evalue": "",
     "output_type": "error",
     "traceback": [
      "\u001b[1;31mRunning cells with '/Users/timmooren/miniconda/envs/tf/bin/python' requires the ipykernel package.\n",
      "\u001b[1;31mRun the following command to install 'ipykernel' into the Python environment. \n",
      "\u001b[1;31mCommand: 'conda install -p /Users/timmooren/miniconda/envs/tf ipykernel --update-deps --force-reinstall'"
     ]
    }
   ],
   "source": [
    "# Normalize the features\n",
    "scaler = MinMaxScaler(feature_range=(0,1))\n",
    "scaled_data = scaler.fit_transform(data.drop(['fall_top', 'climb_id'], axis=1))\n",
    "scaled_data"
   ]
  },
  {
   "cell_type": "code",
   "execution_count": null,
   "metadata": {},
   "outputs": [
    {
     "ename": "",
     "evalue": "",
     "output_type": "error",
     "traceback": [
      "\u001b[1;31mRunning cells with '/Users/timmooren/miniconda/envs/tf/bin/python' requires the ipykernel package.\n",
      "\u001b[1;31mRun the following command to install 'ipykernel' into the Python environment. \n",
      "\u001b[1;31mCommand: 'conda install -p /Users/timmooren/miniconda/envs/tf ipykernel --update-deps --force-reinstall'"
     ]
    }
   ],
   "source": [
    "# Transform data into sequences for LSTM, maintaining climb_id integrity\n",
    "time_steps = 5\n",
    "X = []\n",
    "y = []\n",
    "\n",
    "for climb_id in data['climb_id'].unique():\n",
    "    climb_data = scaled_data[data['climb_id'] == climb_id]\n",
    "    for i in range(time_steps, len(climb_data)):\n",
    "        X.append(climb_data[i-time_steps:i])\n",
    "        y.append(data.loc[data['climb_id'] == climb_id, 'fall_top'].values[i])\n",
    "\n",
    "# Convert to arrays\n",
    "X, y = np.array(X), np.array(y)\n",
    "# show the data together to verify it is correct\n"
   ]
  },
  {
   "cell_type": "code",
   "execution_count": null,
   "metadata": {},
   "outputs": [
    {
     "ename": "",
     "evalue": "",
     "output_type": "error",
     "traceback": [
      "\u001b[1;31mRunning cells with '/Users/timmooren/miniconda/envs/tf/bin/python' requires the ipykernel package.\n",
      "\u001b[1;31mRun the following command to install 'ipykernel' into the Python environment. \n",
      "\u001b[1;31mCommand: 'conda install -p /Users/timmooren/miniconda/envs/tf ipykernel --update-deps --force-reinstall'"
     ]
    }
   ],
   "source": [
    "def custom_train_test_split(X, y, test_size=0.2):\n",
    "    split_index = int(len(X) * (1 - test_size))\n",
    "    X_train = X[:split_index]\n",
    "    y_train = y[:split_index]\n",
    "    X_test = X[split_index:]\n",
    "    y_test = y[split_index:]\n",
    "    return X_train, X_test, y_train, y_test\n",
    "\n",
    "X_train, X_test, y_train, y_test = custom_train_test_split(X, y, test_size=0.2)\n"
   ]
  },
  {
   "cell_type": "code",
   "execution_count": null,
   "metadata": {},
   "outputs": [
    {
     "ename": "",
     "evalue": "",
     "output_type": "error",
     "traceback": [
      "\u001b[1;31mRunning cells with '/Users/timmooren/miniconda/envs/tf/bin/python' requires the ipykernel package.\n",
      "\u001b[1;31mRun the following command to install 'ipykernel' into the Python environment. \n",
      "\u001b[1;31mCommand: 'conda install -p /Users/timmooren/miniconda/envs/tf ipykernel --update-deps --force-reinstall'"
     ]
    }
   ],
   "source": [
    "from tensorflow.keras.models import Sequential\n",
    "from tensorflow.keras.layers import LSTM, Dense\n",
    "\n",
    "n_features = X_train.shape[2]  # number of features\n",
    "\n",
    "model = Sequential()\n",
    "model.add(LSTM(50, activation='relu', input_shape=(time_steps, n_features)))\n",
    "model.add(Dense(1, activation='sigmoid'))  # Binary classification\n",
    "\n",
    "model.compile(optimizer='adam', loss='binary_crossentropy', metrics=['accuracy'])\n"
   ]
  },
  {
   "cell_type": "code",
   "execution_count": null,
   "metadata": {},
   "outputs": [
    {
     "ename": "",
     "evalue": "",
     "output_type": "error",
     "traceback": [
      "\u001b[1;31mRunning cells with '/Users/timmooren/miniconda/envs/tf/bin/python' requires the ipykernel package.\n",
      "\u001b[1;31mRun the following command to install 'ipykernel' into the Python environment. \n",
      "\u001b[1;31mCommand: 'conda install -p /Users/timmooren/miniconda/envs/tf ipykernel --update-deps --force-reinstall'"
     ]
    }
   ],
   "source": [
    "model.fit(X_train, y_train, epochs=50, verbose=1)\n"
   ]
  }
 ],
 "metadata": {
  "kernelspec": {
   "display_name": "Python 3",
   "language": "python",
   "name": "python3"
  },
  "language_info": {
   "codemirror_mode": {
    "name": "ipython",
    "version": 3
   },
   "file_extension": ".py",
   "mimetype": "text/x-python",
   "name": "python",
   "nbconvert_exporter": "python",
   "pygments_lexer": "ipython3",
   "version": "3.8.16"
  },
  "orig_nbformat": 4
 },
 "nbformat": 4,
 "nbformat_minor": 2
}
