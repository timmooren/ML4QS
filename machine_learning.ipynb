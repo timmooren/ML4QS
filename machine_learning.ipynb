{
 "cells": [
  {
   "attachments": {},
   "cell_type": "markdown",
   "metadata": {},
   "source": [
    "The following code is from: https://www.datacamp.com/tutorial/random-forests-classifier-python"
   ]
  },
  {
   "cell_type": "code",
   "execution_count": 1,
   "metadata": {},
   "outputs": [],
   "source": [
    "import pandas as pd\n",
    "import numpy as np\n",
    "from sklearn.ensemble import RandomForestClassifier\n",
    "from sklearn.metrics import accuracy_score, confusion_matrix, precision_score, recall_score, f1_score, ConfusionMatrixDisplay\n",
    "from sklearn.model_selection import RandomizedSearchCV, train_test_split\n",
    "from scipy.stats import randint\n",
    "from sklearn.tree import export_graphviz\n",
    "from IPython.display import Image\n",
    "import create_dataset as cd\n",
    "import feature_engineering as fe\n",
    "import os \n",
    "from prep import * "
   ]
  },
  {
   "cell_type": "code",
   "execution_count": 4,
   "metadata": {},
   "outputs": [],
   "source": [
    "model_data = pd.read_csv(\"datasets/processed_data.csv\")\n",
    "model_data = model_data.drop(columns = ['datetime'])\n",
    "model_data = aggregate_rf(model_data)\n"
   ]
  },
  {
   "cell_type": "code",
   "execution_count": 5,
   "metadata": {},
   "outputs": [
    {
     "name": "stdout",
     "output_type": "stream",
     "text": [
      "accuracy: 0.7  precision: 0.0 precision: 0.0 f1: 0.0\n"
     ]
    }
   ],
   "source": [
    "\n",
    "\n",
    "x = model_data.drop('fall_top', axis=1)\n",
    "y = model_data['fall_top']\n",
    "\n",
    "X_train, X_test, Y_train, Y_test = train_test_split(x, y, test_size=0.2)\n",
    "\n",
    "mod = RandomForestClassifier(random_state= 42)\n",
    "mod.fit(X_train, Y_train)\n",
    "\n",
    "Y_pred = mod.predict(X_test)\n",
    "\n",
    "accuracy = accuracy_score(Y_test, Y_pred)\n",
    "precision = precision_score(Y_test, Y_pred, zero_division=0)\n",
    "recall = recall_score(Y_test, Y_pred, zero_division=0)\n",
    "f1 = f1_score(Y_test, Y_pred, zero_division=0)\n",
    "\n",
    "print(\"accuracy:\", accuracy, \" precision:\", precision, \"precision:\", recall, \"f1:\", f1)\n"
   ]
  },
  {
   "cell_type": "code",
   "execution_count": 6,
   "metadata": {},
   "outputs": [
    {
     "name": "stdout",
     "output_type": "stream",
     "text": [
      "Best hyperparameters: {'max_depth': 4, 'n_estimators': 322}\n"
     ]
    }
   ],
   "source": [
    "param_dist = {'n_estimators': randint(50,1500),\n",
    "            'max_depth': randint(1,20)}\n",
    "    \n",
    "mod = RandomForestClassifier(random_state= 42)\n",
    "\n",
    "rand_search = RandomizedSearchCV(mod, param_distributions = param_dist, n_iter=5, cv=3)\n",
    "\n",
    "rand_search.fit(X_train, Y_train)\n",
    "\n",
    "best_rf = rand_search.best_estimator_\n",
    "\n",
    "print('Best hyperparameters:',  rand_search.best_params_)"
   ]
  },
  {
   "cell_type": "code",
   "execution_count": 7,
   "metadata": {},
   "outputs": [
    {
     "name": "stdout",
     "output_type": "stream",
     "text": [
      "accuracy: 0.7  precision: 0.0 precision: 0.0 f1: 0.0\n"
     ]
    },
    {
     "data": {
      "image/png": "[encoded data removed]",
      "text/plain": [
       "<Figure size 640x480 with 2 Axes>"
      ]
     },
     "metadata": {},
     "output_type": "display_data"
    }
   ],
   "source": [
    "Y_pred_best = best_rf.predict(X_test)\n",
    "\n",
    "# Create the confusion matrix\n",
    "cm = confusion_matrix(Y_test, Y_pred_best)\n",
    "\n",
    "ConfusionMatrixDisplay(confusion_matrix=cm).plot()\n",
    "\n",
    "\n",
    "accuracy = accuracy_score(Y_test, Y_pred_best)\n",
    "precision = precision_score(Y_test, Y_pred_best, zero_division=0)\n",
    "recall = recall_score(Y_test, Y_pred_best, zero_division=0)\n",
    "f1 = f1_score(Y_test, Y_pred_best, zero_division=0)\n",
    "\n",
    "print(\"accuracy:\", accuracy, \" precision:\", precision, \"precision:\", recall, \"f1:\", f1)"
   ]
  }
 ],
 "metadata": {
  "kernelspec": {
   "display_name": "Python 3",
   "language": "python",
   "name": "python3"
  },
  "language_info": {
   "codemirror_mode": {
    "name": "ipython",
    "version": 3
   },
   "file_extension": ".py",
   "mimetype": "text/x-python",
   "name": "python",
   "nbconvert_exporter": "python",
   "pygments_lexer": "ipython3",
   "version": "3.8.3"
  },
  "orig_nbformat": 4
 },
 "nbformat": 4,
 "nbformat_minor": 2
}
