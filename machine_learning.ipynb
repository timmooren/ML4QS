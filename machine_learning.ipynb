{
 "cells": [
  {
   "attachments": {},
   "cell_type": "markdown",
   "metadata": {},
   "source": [
    "The following code is from: https://www.datacamp.com/tutorial/random-forests-classifier-python"
   ]
  },
  {
   "cell_type": "code",
   "execution_count": null,
   "metadata": {},
   "outputs": [],
   "source": [
    "import pandas as pd\n",
    "import numpy as np\n",
    "from sklearn.ensemble import RandomForestClassifier\n",
    "from sklearn.metrics import accuracy_score, confusion_matrix, precision_score, recall_score, f1_score, ConfusionMatrixDisplay\n",
    "from sklearn.model_selection import RandomizedSearchCV, train_test_split\n",
    "from scipy.stats import randint\n",
    "from sklearn.tree import export_graphviz\n",
    "from IPython.display import Image\n",
    "import create_dataset as cd\n",
    "import feature_engineering as fe\n",
    "import os \n",
    "from prep import * "
   ]
  },
  {
   "cell_type": "code",
   "execution_count": null,
   "metadata": {},
   "outputs": [],
   "source": [
    "model_data = \n",
    "model_data = aggregate_rf(data)"
   ]
  },
  {
   "cell_type": "code",
   "execution_count": null,
   "metadata": {},
   "outputs": [],
   "source": [
    "\n",
    "\n",
    "x = model_data.drop('fall_top', axis=1)\n",
    "y = model_data['fall_top']\n",
    "\n",
    "X_train, X_test, Y_train, Y_test = train_test_split(x, y, test_size=0.2)\n",
    "\n",
    "mod = RandomForestClassifier(random_state= 42)\n",
    "mod.fit(X_train, Y_train)\n",
    "\n",
    "Y_pred = mod.predict(X_test)\n",
    "\n",
    "accuracy = accuracy_score(Y_test, Y_pred)\n",
    "precision = precision_score(Y_test, Y_pred, zero_division=0)\n",
    "recall = recall_score(Y_test, Y_pred, zero_division=0)\n",
    "f1 = f1_score(Y_test, Y_pred, zero_division=0)\n",
    "\n",
    "print(\"accuracy:\", accuracy, \" precision:\", precision, \"precision:\", recall, \"f1:\", f1)\n"
   ]
  },
  {
   "cell_type": "code",
   "execution_count": null,
   "metadata": {},
   "outputs": [],
   "source": [
    "param_dist = {'n_estimators': randint(50,1500),\n",
    "            'max_depth': randint(1,20)}\n",
    "    \n",
    "mod = RandomForestClassifier(random_state= 42)\n",
    "\n",
    "rand_search = RandomizedSearchCV(mod, param_distributions = param_dist, n_iter=5, cv=3)\n",
    "\n",
    "rand_search.fit(X_train, Y_train)\n",
    "\n",
    "best_rf = rand_search.best_estimator_\n",
    "\n",
    "print('Best hyperparameters:',  rand_search.best_params_)"
   ]
  },
  {
   "cell_type": "code",
   "execution_count": null,
   "metadata": {},
   "outputs": [],
   "source": [
    "Y_pred_best = best_rf.predict(X_test)\n",
    "\n",
    "# Create the confusion matrix\n",
    "cm = confusion_matrix(Y_test, Y_pred_best)\n",
    "\n",
    "ConfusionMatrixDisplay(confusion_matrix=cm).plot()\n",
    "\n",
    "\n",
    "accuracy = accuracy_score(Y_test, Y_pred_best)\n",
    "precision = precision_score(Y_test, Y_pred_best, zero_division=0)\n",
    "recall = recall_score(Y_test, Y_pred_best, zero_division=0)\n",
    "f1 = f1_score(Y_test, Y_pred_best, zero_division=0)\n",
    "\n",
    "print(\"accuracy:\", accuracy, \" precision:\", precision, \"precision:\", recall, \"f1:\", f1)"
   ]
  }
 ],
 "metadata": {
  "language_info": {
   "name": "python"
  },
  "orig_nbformat": 4
 },
 "nbformat": 4,
 "nbformat_minor": 2
}
